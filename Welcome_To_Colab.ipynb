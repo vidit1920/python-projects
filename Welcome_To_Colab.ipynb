{
  "cells": [
    {
      "cell_type": "markdown",
      "metadata": {
        "id": "view-in-github",
        "colab_type": "text"
      },
      "source": [
        "<a href=\"https://colab.research.google.com/github/vidit1920/python-projects/blob/main/Welcome_To_Colab.ipynb\" target=\"_parent\"><img src=\"https://colab.research.google.com/assets/colab-badge.svg\" alt=\"Open In Colab\"/></a>"
      ]
    },
    {
      "cell_type": "markdown",
      "source": [
        "# New Section"
      ],
      "metadata": {
        "id": "qbdvfaqDJMpY"
      }
    },
    {
      "cell_type": "code",
      "source": [
        "import numpy as np\n",
        "import nltk\n",
        "import string\n",
        "import random"
      ],
      "metadata": {
        "id": "o3-UWqvcJW2H"
      },
      "execution_count": 4,
      "outputs": []
    },
    {
      "cell_type": "code",
      "source": [
        "f=open('chatbot.txt','r',errors='ignore')\n",
        "raw_doc=f.read()\n",
        "raw_doc=raw_doc.lower()\n",
        "# Download the 'punkt_tab' resource\n",
        "nltk.download('punkt_tab') # This line is added to download the missing resource\n",
        "nltk.download('punkt')\n",
        "nltk.download('wordnet')\n",
        "sent_tokens=nltk.sent_tokenize(raw_doc)\n",
        "word_tokens=nltk.word_tokenize(raw_doc)"
      ],
      "metadata": {
        "id": "VXgfLNmKMW_Y"
      },
      "execution_count": null,
      "outputs": []
    },
    {
      "cell_type": "code",
      "source": [
        "sent_tokens [:2]"
      ],
      "metadata": {
        "id": "oUy0o14xNEDm"
      },
      "execution_count": null,
      "outputs": []
    },
    {
      "cell_type": "code",
      "source": [
        "word_tokens [:2]"
      ],
      "metadata": {
        "id": "NcgqIzjpNLZ6"
      },
      "execution_count": null,
      "outputs": []
    },
    {
      "cell_type": "code",
      "source": [
        "Lemmer = nltk.stem.WordNetLemmatizer()\n",
        "def LemTokens(tokens):\n",
        "  return [Lemmer.lemmatize(token) for token in tokens]\n",
        "remove_punct_dict = dict((ord(punct),None)for punct in string.punctuation)\n",
        "def LemNormalize(text):\n",
        "  return LemTokens(nltk.word_tokenize(text.lower().translate(remove_punct_dict)))\n"
      ],
      "metadata": {
        "id": "fdIZ7HUiNPgr"
      },
      "execution_count": 14,
      "outputs": []
    },
    {
      "cell_type": "code",
      "source": [
        "greet_inputs=(\"hello\",\"hi\",\"greetings\",\"suop\",\"whats up\",\"hey\")\n",
        "greet_responses=[\"hi\",\"hey\",\"nods\",\"hi there\",\"hello\",\"i am glad you are talking to me!\"]\n",
        "def greet(sentence):\n",
        "  for word in sentence.split():\n",
        "    if word.lower() in greet_inputs:\n",
        "      return random.choice(greet_responses)"
      ],
      "metadata": {
        "id": "XAKhXStuOVJH"
      },
      "execution_count": 15,
      "outputs": []
    },
    {
      "cell_type": "code",
      "source": [
        "from sklearn.feature_extraction.text import TfidfVectorizer\n",
        "from sklearn.metrics.pairwise import cosine_similarity\n",
        "def response(user_response):\n",
        "  robo1_response=''\n",
        "  Tfidf=TfidfVectorizer(tokenizer=LemNormalize,stop_words='english')\n",
        "  # The line below was changed to use 'Tfidf' instead of 'TfidfVec'\n",
        "  tfidf=Tfidf.fit_transform(sent_tokens)\n",
        "  vals=cosine_similarity(tfidf[-1],tfidf)\n",
        "  idx=vals.argsort()[0][-2]\n",
        "  flat=vals.flatten()\n",
        "  flat.sort()\n",
        "  req_tfidf=flat[-2]\n",
        "  if(req_tfidf==0):\n",
        "    robo1_response=robo1_response+\"i am sorry! I dont understand you\"\n",
        "    return robo1_response\n",
        "  else:\n",
        "    return robo1_response+sent_tokens[idx]"
      ],
      "metadata": {
        "id": "RPDJJdWuPGWd"
      },
      "execution_count": 19,
      "outputs": []
    },
    {
      "cell_type": "code",
      "source": [
        "flag = True\n",
        "print(\"BOT: my name is stark. lets have a convo alsoif you want to exit just type bye \")\n",
        "while(flag == True):\n",
        "  user_response = input()\n",
        "  user_response = user_response.lower()\n",
        "  if(user_response != 'bye'):\n",
        "    flag = False\n",
        "    print(\"BOT: bye! take care\")\n",
        "  else:\n",
        "    if(greet(user_response)!= None):\n",
        "      print(\"BOT:\"+greet(user_response))\n",
        "    else:\n",
        "      sent_tokens.append(user_response)\n",
        "      word_tokens=word_tokens+nltk.words_tokenize(user_response)\n",
        "      final_words=list(set(word_tokens))\n",
        "      print(\"BOT:\",end=\"\")\n",
        "flag = True\n",
        "print(\"BOT: my name is stark. lets have a convo alsoif you want to exit just type bye \")\n",
        "while(flag == True):\n",
        "  user_response = input()\n",
        "  user_response = user_response.lower()\n",
        "  if(user_response != 'bye'):\n",
        "    if(greet(user_response)!= None):\n",
        "      print(\"BOT:\"+greet(user_response))\n",
        "    else:\n",
        "      sent_tokens.append(user_response)\n",
        "      word_tokens=word_tokens+nltk.word_tokenize(user_response)\n",
        "      final_words=list(set(word_tokens))\n",
        "      print(\"BOT:\",end=\"\")\n",
        "      print(response(user_response))\n",
        "      sent_tokens.remove(user_response)\n",
        "  else:\n",
        "    flag = False\n",
        "    print(\"BOT: bye! take care\")\n"
      ],
      "metadata": {
        "id": "jYQXEH8hRVIj"
      },
      "execution_count": null,
      "outputs": []
    }
  ],
  "metadata": {
    "colab": {
      "name": "Welcome To Colab",
      "provenance": [],
      "include_colab_link": true
    },
    "kernelspec": {
      "display_name": "Python 3",
      "name": "python3"
    }
  },
  "nbformat": 4,
  "nbformat_minor": 0
}